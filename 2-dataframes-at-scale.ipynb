{
 "cells": [
  {
   "cell_type": "markdown",
   "id": "9c22a243-93a0-473c-95ba-a718baa2edf0",
   "metadata": {},
   "source": [
    "# Scaling, Performance, and Memory\n",
    "\n",
    "In this notebook we will work with a multi-machine cluster operating in the cloud.  We will do performance tuning on a workflow that enables interactie visualization, and learn about how to measure and improve performance in a distributed context.  We'll make some pretty images too.\n"
   ]
  },
  {
   "cell_type": "markdown",
   "id": "9001ca7e-4d5d-4d90-b456-7c21429d8060",
   "metadata": {},
   "source": [
    "## Request Dask Cluster\n",
    "\n",
    "There are many services to create Dask clusters in the cloud.  Today we'll use Coiled."
   ]
  },
  {
   "cell_type": "code",
   "execution_count": null,
   "id": "0dc4c47f-0556-47e2-b9d1-c80b54a59041",
   "metadata": {},
   "outputs": [],
   "source": [
    "import coiled\n",
    "\n",
    "cluster = coiled.Cluster(\n",
    "    n_workers=10,\n",
    "    package_sync=True,\n",
    ")\n",
    "\n",
    "from dask.distributed import Client\n",
    "client = Client(cluster)\n",
    "\n",
    "client"
   ]
  },
  {
   "cell_type": "markdown",
   "id": "1ea17dca-18fc-433b-89e5-748faa599ba7",
   "metadata": {},
   "source": [
    "## Large Scale GIS Visualization\n",
    "\n",
    "For our application we'll visualize the taxi pickup locations in the classic NYC Taxi dataset.  \n",
    "\n",
    "This data is available to us in Parquet format on S3"
   ]
  },
  {
   "cell_type": "markdown",
   "id": "8bc4687b-2eca-4e5f-8799-94113e02959c",
   "metadata": {},
   "source": [
    "### Data"
   ]
  },
  {
   "cell_type": "code",
   "execution_count": null,
   "id": "33582164-1ca1-4685-beb0-03502334baf0",
   "metadata": {},
   "outputs": [],
   "source": [
    "# Read in one year of NYC Taxi data\n",
    "\n",
    "import dask.dataframe as dd\n",
    "\n",
    "df = dd.read_parquet(\n",
    "    \"s3://coiled-datasets/dask-book/nyc-tlc/2009\"\n",
    ")\n",
    "df.head()"
   ]
  },
  {
   "cell_type": "code",
   "execution_count": null,
   "id": "ba566750-2017-44ba-9595-abba9fb5353d",
   "metadata": {},
   "outputs": [],
   "source": [
    "len(df)"
   ]
  },
  {
   "cell_type": "markdown",
   "id": "e0fd3127-3932-4f1c-a6b9-462aa5592af5",
   "metadata": {},
   "source": [
    "<img src=\"images/nyc-taxi-scatter.png\" align=\"right\" width=\"40%\">\n",
    "\n",
    "### Plotting large scale data is hard\n",
    "\n",
    "Let's say we wanted to get a map of where taxi's dropped off passengers.  In principle we'd want something like the following:\n",
    "\n",
    "```python\n",
    "df.sample(frac=0.001).plot(\n",
    "    x=\"pickup_longitude\", \n",
    "    y=\"pickup_latitude\", \n",
    "    kind=\"scatter\",\n",
    ")\n",
    "```\n",
    "\n",
    "Even at 0.1% downsampling this is still just a big blob of blue.\n",
    "\n",
    "We can do better."
   ]
  },
  {
   "cell_type": "markdown",
   "id": "9c17d6f6-69f2-4b61-b7e7-996cb126c55e",
   "metadata": {},
   "source": [
    "### Datashader for large scale visualization\n",
    "\n",
    "[Datashader](https://datashader.org/) is a Python library designed to visualize large datasets.  It also happens to build on Dask.  It renders large volumes of data with better design.\n",
    "\n",
    "We won't go into how Datashader works in this tutorial (there are excellent resources online) for us it's just a tool to show us that we're processing our data quickly."
   ]
  },
  {
   "cell_type": "code",
   "execution_count": null,
   "id": "2ca3d5d8-1100-4e16-a926-db61c77d0bf2",
   "metadata": {},
   "outputs": [],
   "source": [
    "import datashader\n",
    "from datashader import transfer_functions as tf\n",
    "from datashader.colors import Greys9, Hot\n",
    "import holoviews as hv\n",
    "import numpy as np\n",
    "from holoviews import opts\n",
    "from holoviews.element.tiles import StamenTonerBackgroundRetina\n",
    "\n",
    "hv.extension(\"bokeh\")\n",
    "\n",
    "Greys9_r = list(reversed(Greys9))[:-2]"
   ]
  },
  {
   "cell_type": "code",
   "execution_count": null,
   "id": "72f118be-ad2f-45cc-af01-be9eff607056",
   "metadata": {},
   "outputs": [],
   "source": [
    "%%time\n",
    "\n",
    "# Define plotting parameters\n",
    "plot_width = int(750)\n",
    "plot_height = int(plot_width // 1.2)\n",
    "x_range, y_range = (-74.1, -73.7), (40.6, 40.9)\n",
    "plot_options = hv.Options(width=plot_width, height=plot_height, xaxis=None, yaxis=None)\n",
    "\n",
    "# Plot\n",
    "canvas = datashader.Canvas(\n",
    "    plot_width=plot_width, plot_height=plot_height, x_range=x_range, y_range=y_range\n",
    ")\n",
    "agg = canvas.points(\n",
    "    df, \"dropoff_longitude\", \"dropoff_latitude\", datashader.count(\"passenger_count\")\n",
    ")\n",
    "datashader.transfer_functions.shade(agg, cmap=[\"white\", \"darkblue\"], how=\"linear\")"
   ]
  },
  {
   "cell_type": "markdown",
   "id": "d199bd59-4faf-4271-9afd-dd0813722d2a",
   "metadata": {},
   "source": [
    "Datashader plots can be finely customized. Let's try again with some different settings:"
   ]
  },
  {
   "cell_type": "code",
   "execution_count": null,
   "id": "b8c00f3e-d1aa-4949-b31b-53fd7bdc0b9c",
   "metadata": {},
   "outputs": [],
   "source": [
    "datashader.transfer_functions.shade(agg, cmap=Hot, how=\"eq_hist\")"
   ]
  },
  {
   "cell_type": "markdown",
   "id": "6b874f7f-ddc1-424f-bae2-59e03c86cefc",
   "metadata": {},
   "source": [
    "That looks nicer"
   ]
  },
  {
   "cell_type": "markdown",
   "id": "1b597989-874d-415f-9e7c-dd1109262f3e",
   "metadata": {},
   "source": [
    "## Cleaning Up The Data\n",
    "Something's off about this plot...where is the signature NYC street grid?"
   ]
  },
  {
   "cell_type": "code",
   "execution_count": null,
   "id": "9a44b948-8782-4d5f-9d5e-2b5cfd72be31",
   "metadata": {},
   "outputs": [],
   "source": [
    "df.dropoff_longitude.head()"
   ]
  },
  {
   "cell_type": "code",
   "execution_count": null,
   "id": "ff8390d1-21be-4683-981d-89d6ad582328",
   "metadata": {},
   "outputs": [],
   "source": [
    "df.dropoff_longitude.max().compute() , df.dropoff_longitude.min().compute()"
   ]
  },
  {
   "cell_type": "markdown",
   "id": "5588dad4-688b-4d00-8f6e-0dc16cdac2a2",
   "metadata": {},
   "source": [
    "Looks like there are some rows with bad location data in the mix. \n",
    "\n",
    "Let's filter those out and retry."
   ]
  },
  {
   "cell_type": "code",
   "execution_count": null,
   "id": "a43dd6fa-1310-47b1-b339-feaeb2c2d46a",
   "metadata": {},
   "outputs": [],
   "source": [
    "df = df.loc[\n",
    "    (df.dropoff_longitude > -74.1 ) & (df.dropoff_longitude < -73.7) & \n",
    "    (df.dropoff_latitude > 40.6 ) & (df.dropoff_latitude < 40.9)\n",
    "]"
   ]
  },
  {
   "cell_type": "code",
   "execution_count": null,
   "id": "f5c2f64f-a674-4d2d-8347-9e7a937be403",
   "metadata": {},
   "outputs": [],
   "source": [
    "canvas = datashader.Canvas()\n",
    "agg = canvas.points(\n",
    "    df, \"dropoff_longitude\", \"dropoff_latitude\", datashader.count(\"passenger_count\")\n",
    ")\n",
    "datashader.transfer_functions.shade(agg, cmap=Hot, how=\"eq_hist\")"
   ]
  },
  {
   "cell_type": "markdown",
   "id": "4e227c09-16e7-4508-bd45-a7042f2ca05f",
   "metadata": {},
   "source": [
    "## Let's Speed This Up\n",
    "That works...technically. But it's painfully slow to render. How can we speed this up?\n",
    "\n",
    "One of the time-consuming tasks here is fetching the data from S3. We can `.persist()` the dataframe into our cluster memory before we render the interactive plot. That should speed things up a bit."
   ]
  },
  {
   "cell_type": "code",
   "execution_count": null,
   "id": "9595f731-0183-4eba-ab18-d843d0f50008",
   "metadata": {},
   "outputs": [],
   "source": [
    "df = df.persist()"
   ]
  },
  {
   "cell_type": "markdown",
   "id": "a8a26848-172a-4dd1-b767-dc349e3cef07",
   "metadata": {},
   "source": [
    "Let's try again:"
   ]
  },
  {
   "cell_type": "code",
   "execution_count": null,
   "id": "19259ae9-2456-4405-931e-3d2c4795448c",
   "metadata": {},
   "outputs": [],
   "source": [
    "df = df[[\"dropoff_longitude\", \"dropoff_latitude\", \"passenger_count\"]].repartition(partition_size=\"256 MiB\").persist()"
   ]
  },
  {
   "cell_type": "code",
   "execution_count": null,
   "id": "85acda2e-a2fc-49fc-8b0b-1771f823ed4a",
   "metadata": {},
   "outputs": [],
   "source": [
    "%%time\n",
    "\n",
    "agg = datashader.Canvas().points(\n",
    "    df, \"dropoff_longitude\", \"dropoff_latitude\", datashader.count(\"passenger_count\")\n",
    ")\n",
    "datashader.transfer_functions.shade(agg, cmap=Hot, how=\"eq_hist\")"
   ]
  },
  {
   "cell_type": "code",
   "execution_count": null,
   "id": "358e754e-abff-4cd3-8645-18345400992e",
   "metadata": {},
   "outputs": [],
   "source": []
  },
  {
   "cell_type": "code",
   "execution_count": null,
   "id": "3116a581-e3bb-4d65-9a1f-3fbfda57f4ae",
   "metadata": {},
   "outputs": [],
   "source": []
  },
  {
   "cell_type": "code",
   "execution_count": null,
   "id": "5c3920f3-616f-4937-a42e-41e2e6e64760",
   "metadata": {},
   "outputs": [],
   "source": []
  },
  {
   "cell_type": "markdown",
   "id": "19e8d3c2-56c1-4d71-bd86-a90c7a647895",
   "metadata": {},
   "source": [
    "## More Data!\n",
    "You've shown this to your colleagues and they're impressed. But your manager sees opportunity and is curious how much more they can do with this! They point you to another bucket and ask you to visualize the data that's in there: 5 years' worth of NYC taxi data, totalling over 200GB in memory."
   ]
  },
  {
   "cell_type": "code",
   "execution_count": null,
   "id": "259cb552-5667-407d-9c73-cd53aaaf94d5",
   "metadata": {},
   "outputs": [],
   "source": [
    "df = dd.read_parquet(\n",
    "    \"s3://coiled-datasets/dask-book/nyc-tlc/2009-2013/\"\n",
    ")"
   ]
  },
  {
   "cell_type": "markdown",
   "id": "5967b60e-d825-4066-889f-79d972090b83",
   "metadata": {},
   "source": [
    "You've just learned some neat tricks so decide to persist the data to cluster memory before plotting this one."
   ]
  },
  {
   "cell_type": "code",
   "execution_count": null,
   "id": "b0289f24-6284-4b09-818b-a1fbc533874d",
   "metadata": {},
   "outputs": [],
   "source": [
    "df = df.persist()"
   ]
  },
  {
   "cell_type": "code",
   "execution_count": null,
   "id": "b31c8790-ff3b-485e-9403-326327d6e11a",
   "metadata": {},
   "outputs": [],
   "source": [
    "# select only nyc datapoints\n",
    "df = df.loc[\n",
    "    (df.dropoff_longitude > -74.1 ) & (df.dropoff_longitude < -73.7) & \n",
    "    (df.dropoff_latitude > 40.6 ) & (df.dropoff_latitude < 40.9)\n",
    "]"
   ]
  },
  {
   "cell_type": "code",
   "execution_count": null,
   "id": "7a2cfe7d-e659-4859-841e-dedf1704353c",
   "metadata": {
    "tags": []
   },
   "outputs": [],
   "source": [
    "%%time\n",
    "\n",
    "agg = datashader.Canvas().points(\n",
    "    df, \"dropoff_longitude\", \"dropoff_latitude\", datashader.count(\"passenger_count\")\n",
    ")\n",
    "datashader.transfer_functions.shade(agg, cmap=Hot, how=\"eq_hist\")"
   ]
  },
  {
   "cell_type": "code",
   "execution_count": null,
   "id": "68d36a9c-7ec3-4bcf-839f-b5cff186061a",
   "metadata": {},
   "outputs": [],
   "source": [
    "client.restart()  # oof.  that was bad."
   ]
  },
  {
   "cell_type": "code",
   "execution_count": null,
   "id": "22c67f64-4430-4f43-9524-8b771f411001",
   "metadata": {},
   "outputs": [],
   "source": [
    "df.dtypes"
   ]
  },
  {
   "cell_type": "markdown",
   "id": "e5228be6-f226-48ff-a3f8-cdbd2d950ac3",
   "metadata": {},
   "source": [
    "## Reduce dataset size in memory"
   ]
  },
  {
   "cell_type": "code",
   "execution_count": null,
   "id": "dae4c770-b668-4c58-b2b3-9584fecfb955",
   "metadata": {},
   "outputs": [],
   "source": [
    "df = df[[\"dropoff_latitude\", \"dropoff_longitude\", \"passenger_count\"]]"
   ]
  },
  {
   "cell_type": "code",
   "execution_count": null,
   "id": "f1636ec1-56ab-43b1-8353-38803c9ca729",
   "metadata": {},
   "outputs": [],
   "source": [
    "dtypes = {\n",
    "    \"vendor_id\": \"string[pyarrow]\",\n",
    "    \"passenger_count\": \"int16\",\n",
    "    \"trip_distance\": \"float32\",\n",
    "    \"pickup_latitude\": \"float32\",\n",
    "    \"pickup_longitude\": \"float32\",\n",
    "    \"payment_type\": \"string[pyarrow]\",\n",
    "    \"fare_amount\": \"float32\",\n",
    "    \"surcharge\": \"float32\",\n",
    "    \"tip_amount\": \"float32\",\n",
    "    \"tolls_amount\": \"float32\",\n",
    "    \"total_amount\": \"float32\",\n",
    "}\n",
    "df = df.astype(dtypes).persist()"
   ]
  },
  {
   "cell_type": "code",
   "execution_count": null,
   "id": "a7062ebb-f4c8-4122-80df-b48d622b794e",
   "metadata": {},
   "outputs": [],
   "source": [
    "client.restart()"
   ]
  },
  {
   "cell_type": "code",
   "execution_count": null,
   "id": "3cddeca7-99e7-43a5-8b91-bdbd74bf836d",
   "metadata": {},
   "outputs": [],
   "source": [
    "df.memory_usage(deep=True).sum().compute()"
   ]
  },
  {
   "cell_type": "code",
   "execution_count": null,
   "id": "8e00c3a8-75f8-4cda-8b27-4fd536ee71b7",
   "metadata": {},
   "outputs": [],
   "source": [
    "_ / 1e9"
   ]
  },
  {
   "cell_type": "code",
   "execution_count": null,
   "id": "b98d2881-b9cf-406e-aae9-2c2a2dda14a7",
   "metadata": {},
   "outputs": [],
   "source": [
    "df = df[[\"dropoff_longitude\", \"dropoff_latitude\", \"passenger_count\"]]"
   ]
  },
  {
   "cell_type": "code",
   "execution_count": null,
   "id": "de34f458-9a65-4d5a-8acc-96e2006d3f3c",
   "metadata": {},
   "outputs": [],
   "source": [
    "df = df.persist().repartition(partition_size=\"256 MiB\").persist()"
   ]
  },
  {
   "cell_type": "code",
   "execution_count": null,
   "id": "2f785b9b-1ad1-48b0-84a9-54d7ea94e6a4",
   "metadata": {},
   "outputs": [],
   "source": [
    "len(df)"
   ]
  },
  {
   "cell_type": "code",
   "execution_count": null,
   "id": "52066a29-28c8-4b93-8177-2b628385e9e9",
   "metadata": {},
   "outputs": [],
   "source": [
    "cvs.points?"
   ]
  },
  {
   "cell_type": "code",
   "execution_count": null,
   "id": "1f58f081-ce1b-4e6f-8a1b-805124a06e57",
   "metadata": {},
   "outputs": [],
   "source": [
    "%%time\n",
    "\n",
    "agg = datashader.Canvas().points(\n",
    "    source=df, \n",
    "    x=\"dropoff_longitude\", \n",
    "    y=\"dropoff_latitude\", \n",
    "    agg=datashader.count(\"passenger_count\")\n",
    ")\n",
    "\n",
    "tf.shade(agg, cmap=Hot, how=\"eq_hist\")"
   ]
  },
  {
   "cell_type": "code",
   "execution_count": null,
   "id": "03d3d785-e60b-4830-9caa-99dd524c1020",
   "metadata": {},
   "outputs": [],
   "source": []
  }
 ],
 "metadata": {
  "kernelspec": {
   "display_name": "Python [conda env:dask-tutorial]",
   "language": "python",
   "name": "conda-env-dask-tutorial-py"
  },
  "language_info": {
   "codemirror_mode": {
    "name": "ipython",
    "version": 3
   },
   "file_extension": ".py",
   "mimetype": "text/x-python",
   "name": "python",
   "nbconvert_exporter": "python",
   "pygments_lexer": "ipython3",
   "version": "3.10.0"
  }
 },
 "nbformat": 4,
 "nbformat_minor": 5
}
